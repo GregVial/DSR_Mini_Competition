{
 "cells": [
  {
   "cell_type": "code",
   "execution_count": 54,
   "metadata": {
    "collapsed": false
   },
   "outputs": [
    {
     "name": "stderr",
     "output_type": "stream",
     "text": [
      "D:\\Users\\greg_\\Anaconda3\\lib\\site-packages\\IPython\\core\\interactiveshell.py:2717: DtypeWarning: Columns (90,105,119,120,123,124,132,134,135,138,139,147,149,150,153,154,162,164,165,168,169,177,179,183,184,192,194,198,199,207,209,213,214,224,237,239,244) have mixed types. Specify dtype option on import or set low_memory=False.\n",
      "  interactivity=interactivity, compiler=compiler, result=result)\n"
     ]
    },
    {
     "data": {
      "text/plain": [
       "GradientBoostingClassifier(criterion='friedman_mse', init=None,\n",
       "              learning_rate=0.1, loss='deviance', max_depth=3,\n",
       "              max_features=None, max_leaf_nodes=None,\n",
       "              min_impurity_split=1e-07, min_samples_leaf=1,\n",
       "              min_samples_split=2, min_weight_fraction_leaf=0.0,\n",
       "              n_estimators=100, presort='auto', random_state=0,\n",
       "              subsample=1.0, verbose=0, warm_start=False)"
      ]
     },
     "execution_count": 54,
     "metadata": {},
     "output_type": "execute_result"
    }
   ],
   "source": [
    "import pandas as pd\n",
    "import numpy as np\n",
    "from sklearn.preprocessing import LabelBinarizer\n",
    "from sklearn.model_selection import train_test_split\n",
    "\n",
    "raw = pd.read_csv('data/unimelb_training.csv')\n",
    "#\n",
    "# sponsor_code = raw.loc[:,'Sponsor.Code']\n",
    "# grant_cat = raw.loc[:,'Grant.Category.Code']\n",
    "# value_band = raw.loc[:,'Contract.Value.Band...see.note.A']\n",
    "\n",
    "df = raw.ix[:,2:5]\n",
    "\n",
    "df.dropna(axis=0, subset=[\"Sponsor.Code\",\"Grant.Category.Code\"],inplace=True)\n",
    "df['Contract.Value.Band...see.note.A'].fillna(value=\"X\",inplace=True)\n",
    "#df.dropna(axis=0,inplace=True)\n",
    "\n",
    "\n",
    "na_dummy_bool=True\n",
    "df = pd.concat([df,pd.get_dummies(df[\"Sponsor.Code\"],prefix=\"Sponsor\", dummy_na=na_dummy_bool)],axis=1)\n",
    "df = pd.concat([df,pd.get_dummies(df['Grant.Category.Code'],prefix=\"Grant\", dummy_na=na_dummy_bool)],axis=1)\n",
    "\n",
    "df.drop(\"Sponsor.Code\",axis=1,inplace=True)\n",
    "df.drop('Grant.Category.Code',axis=1,inplace=True)\n",
    "#df.drop('Contract.Value.Band...see.note.A',axis=1,inplace=True)\n",
    "\n",
    "\n",
    "# df = pd.concat([data,pd.get_dummies(data['Contract.Value.Band...see.note.A'],prefix=\"Sponsor\", dummy_na=na_dummy_bool)],axis=1)\n",
    "# df.drop(\"Contract.Value.Band...see.note.A\",axis=1,inplace=True)\n",
    "\n",
    "X_train,X_test,y_train,y_test = train_test_split(df.ix[:,1:].astype(str),df.ix[:,0].astype(str))\n",
    "\n",
    "from sklearn.model_selection import GridSearchCV\n",
    "from sklearn.ensemble import RandomForestClassifier, GradientBoostingClassifier\n",
    "\n",
    "gbc = GradientBoostingClassifier(random_state=0)\n",
    "\n",
    "#if __name__ ==\"__main__\":\n",
    "#    gbc.fit(X_train,y_train)\n",
    "\n",
    "gbc.fit(X_train,y_train)\n",
    "\n"
   ]
  },
  {
   "cell_type": "code",
   "execution_count": 55,
   "metadata": {
    "collapsed": false
   },
   "outputs": [
    {
     "name": "stdout",
     "output_type": "stream",
     "text": [
      "0.61210877373\n"
     ]
    }
   ],
   "source": [
    "y_pred = gbc.predict(X_test)\n",
    "print(np.mean(y_test==y_pred))"
   ]
  },
  {
   "cell_type": "code",
   "execution_count": 56,
   "metadata": {
    "collapsed": false
   },
   "outputs": [
    {
     "data": {
      "text/plain": [
       "array(['A ', 'X', 'A ', 'A ', 'B ', 'A ', 'X', 'E ', 'X', 'X', 'X', 'X',\n",
       "       'A ', 'X', 'X', 'B ', 'X', 'X', 'A ', 'C ', 'X', 'B ', 'A ', 'X',\n",
       "       'A ', 'X', 'A ', 'X', 'A ', 'X', 'A ', 'X', 'X', 'A ', 'X', 'C ',\n",
       "       'A ', 'G ', 'A ', 'X', 'A ', 'X', 'B ', 'X', 'X', 'A ', 'X', 'X',\n",
       "       'X', 'X'], dtype=object)"
      ]
     },
     "execution_count": 56,
     "metadata": {},
     "output_type": "execute_result"
    }
   ],
   "source": [
    "y_pred[:50]"
   ]
  },
  {
   "cell_type": "code",
   "execution_count": 57,
   "metadata": {
    "collapsed": false
   },
   "outputs": [],
   "source": [
    "df2 = raw.ix[:,2:4]\n",
    "na_dummy_bool=True\n",
    "df2 = pd.concat([df2,pd.get_dummies(df2[\"Sponsor.Code\"],prefix=\"Sponsor\", dummy_na=na_dummy_bool)],axis=1)\n",
    "df2 = pd.concat([df2,pd.get_dummies(df2['Grant.Category.Code'],prefix=\"Grant\", dummy_na=na_dummy_bool)],axis=1)\n",
    "df2.drop(\"Sponsor.Code\",axis=1,inplace=True)\n",
    "df2.drop('Grant.Category.Code',axis=1,inplace=True)\n",
    "\n",
    "contract_pred = gbc.predict(df2)"
   ]
  },
  {
   "cell_type": "code",
   "execution_count": 63,
   "metadata": {
    "collapsed": false
   },
   "outputs": [
    {
     "name": "stderr",
     "output_type": "stream",
     "text": [
      "D:\\Users\\greg_\\Anaconda3\\lib\\site-packages\\ipykernel\\__main__.py:1: FutureWarning: in the future, boolean array-likes will be handled as a boolean array index\n",
      "  if __name__ == '__main__':\n"
     ]
    }
   ],
   "source": [
    "missing = contract_pred[df[\"Contract.Value.Band...see.note.A\"].isnull()]"
   ]
  },
  {
   "cell_type": "code",
   "execution_count": 65,
   "metadata": {
    "collapsed": false
   },
   "outputs": [
    {
     "data": {
      "text/plain": [
       "array(['A ', 'A ', 'A ', ..., 'A ', 'A ', 'A '], dtype=object)"
      ]
     },
     "execution_count": 65,
     "metadata": {},
     "output_type": "execute_result"
    }
   ],
   "source": [
    "missing[50:]"
   ]
  },
  {
   "cell_type": "code",
   "execution_count": null,
   "metadata": {
    "collapsed": true
   },
   "outputs": [],
   "source": []
  }
 ],
 "metadata": {
  "anaconda-cloud": {},
  "kernelspec": {
   "display_name": "Python [conda root]",
   "language": "python",
   "name": "conda-root-py"
  },
  "language_info": {
   "codemirror_mode": {
    "name": "ipython",
    "version": 3
   },
   "file_extension": ".py",
   "mimetype": "text/x-python",
   "name": "python",
   "nbconvert_exporter": "python",
   "pygments_lexer": "ipython3",
   "version": "3.5.2"
  }
 },
 "nbformat": 4,
 "nbformat_minor": 1
}
