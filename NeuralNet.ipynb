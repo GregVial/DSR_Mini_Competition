{
 "cells": [
  {
   "cell_type": "code",
   "execution_count": 3,
   "metadata": {
    "collapsed": false
   },
   "outputs": [],
   "source": [
    "import pandas as pd\n",
    "import numpy as np\n",
    "\n",
    "\n",
    "X_train = pd.read_csv(\"data/X_train.csv\")\n",
    "X_test = pd.read_csv(\"data/X_test.csv\")\n",
    "y_train = pd.read_csv(\"data/y_train.csv\")\n",
    "y_train = y_train.ix[:,1]\n",
    "y_test = pd.read_csv(\"data/y_test.csv\")\n",
    "y_test = y_test.ix[:,1]"
   ]
  },
  {
   "cell_type": "code",
   "execution_count": 8,
   "metadata": {
    "collapsed": false
   },
   "outputs": [
    {
     "name": "stdout",
     "output_type": "stream",
     "text": [
      "{'hidden_layer_sizes': (1500, 1500, 1500)}\n",
      "0.526862026862\n"
     ]
    }
   ],
   "source": [
    "from sklearn.model_selection import GridSearchCV\n",
    "from sklearn.neural_network import MLPClassifier\n",
    "\n",
    "nn = MLPClassifier(random_state=0)\n",
    "params={\n",
    "    \"hidden_layer_sizes\":[(1500,1500,1500)]\n",
    "}\n",
    "\n",
    "cv = GridSearchCV(nn,param_grid=params,n_jobs=-1).fit(X_train,y_train)\n",
    "\n",
    "print(cv.best_params_)\n",
    "print(cv.best_score_)"
   ]
  },
  {
   "cell_type": "code",
   "execution_count": 9,
   "metadata": {
    "collapsed": false
   },
   "outputs": [
    {
     "name": "stdout",
     "output_type": "stream",
     "text": [
      "Accuracy: 0.6100\n",
      "             predicted_not_granted  predicted_granted\n",
      "not_granted                    305                 24\n",
      "granted                        178                 11\n",
      "             precision    recall  f1-score   support\n",
      "\n",
      "          0       0.63      0.93      0.75       329\n",
      "          1       0.31      0.06      0.10       189\n",
      "\n",
      "avg / total       0.52      0.61      0.51       518\n",
      "\n",
      "ROC AUC: 0.49263\n"
     ]
    }
   ],
   "source": [
    "y_pred = cv.predict(X_test)\n",
    "y_pred_proba = cv.predict(X_test)\n",
    "\n",
    "\n",
    "accuracy = np.mean(y_pred == y_test)\n",
    "print(\"Accuracy: %.4f\" % accuracy)\n",
    "\n",
    "from sklearn.metrics import confusion_matrix\n",
    "conmat = np.array(confusion_matrix(y_test, y_pred))\n",
    "confusion = pd.DataFrame(conmat, index=['not_granted', 'granted'],columns=['predicted_not_granted', 'predicted_granted'])\n",
    "print(confusion)\n",
    "\n",
    "from sklearn.metrics import classification_report\n",
    "cls_rep = classification_report(y_test, y_pred)\n",
    "print(cls_rep)\n",
    "\n",
    "from sklearn.metrics import roc_auc_score\n",
    "auc = roc_auc_score(y_test, y_pred_proba)\n",
    "print(\"ROC AUC: %.5f\" % auc)"
   ]
  },
  {
   "cell_type": "code",
   "execution_count": null,
   "metadata": {
    "collapsed": true
   },
   "outputs": [],
   "source": []
  }
 ],
 "metadata": {
  "anaconda-cloud": {},
  "kernelspec": {
   "display_name": "Python [conda root]",
   "language": "python",
   "name": "conda-root-py"
  },
  "language_info": {
   "codemirror_mode": {
    "name": "ipython",
    "version": 3
   },
   "file_extension": ".py",
   "mimetype": "text/x-python",
   "name": "python",
   "nbconvert_exporter": "python",
   "pygments_lexer": "ipython3",
   "version": "3.5.2"
  }
 },
 "nbformat": 4,
 "nbformat_minor": 1
}
