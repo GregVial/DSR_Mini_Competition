{
 "cells": [
  {
   "cell_type": "code",
   "execution_count": 1,
   "metadata": {
    "collapsed": false
   },
   "outputs": [],
   "source": [
    "import pandas as pd\n",
    "import numpy as np\n",
    "\n",
    "\n",
    "X_train = pd.read_csv(\"data/X_train.csv\")\n",
    "X_test = pd.read_csv(\"data/X_test.csv\")\n",
    "y_train = pd.read_csv(\"data/y_train.csv\")\n",
    "y_train = y_train.ix[:,1]\n",
    "y_test = pd.read_csv(\"data/y_test.csv\")\n",
    "y_test = y_test.ix[:,1]"
   ]
  },
  {
   "cell_type": "code",
   "execution_count": 2,
   "metadata": {
    "collapsed": false
   },
   "outputs": [
    {
     "name": "stdout",
     "output_type": "stream",
     "text": [
      "{}\n",
      "0.522588522589\n"
     ]
    }
   ],
   "source": [
    "from sklearn.model_selection import GridSearchCV\n",
    "from sklearn.svm import SVC\n",
    "\n",
    "svc = SVC(random_state=0)\n",
    "params={\n",
    "    \n",
    "}\n",
    "\n",
    "cv = GridSearchCV(svc,cv=5,param_grid=params,n_jobs=-1).fit(X_train,y_train)\n",
    "\n",
    "print(cv.best_params_)\n",
    "print(cv.best_score_)"
   ]
  },
  {
   "cell_type": "code",
   "execution_count": 5,
   "metadata": {
    "collapsed": false
   },
   "outputs": [
    {
     "name": "stdout",
     "output_type": "stream",
     "text": [
      "Accuracy: 0.6429\n",
      "             predicted_not_granted  predicted_granted\n",
      "not_granted                    322                  7\n",
      "granted                        178                 11\n",
      "             precision    recall  f1-score   support\n",
      "\n",
      "          0       0.64      0.98      0.78       329\n",
      "          1       0.61      0.06      0.11       189\n",
      "\n",
      "avg / total       0.63      0.64      0.53       518\n",
      "\n",
      "ROC AUC: 0.51846\n"
     ]
    }
   ],
   "source": [
    "y_pred = cv.predict(X_test)\n",
    "#y_pred_proba = cv.predict_proba(X_test)\n",
    "\n",
    "\n",
    "accuracy = np.mean(y_pred == y_test)\n",
    "print(\"Accuracy: %.4f\" % accuracy)\n",
    "\n",
    "from sklearn.metrics import confusion_matrix\n",
    "conmat = np.array(confusion_matrix(y_test, y_pred))\n",
    "confusion = pd.DataFrame(conmat, index=['not_granted', 'granted'],columns=['predicted_not_granted', 'predicted_granted'])\n",
    "print(confusion)\n",
    "\n",
    "from sklearn.metrics import classification_report\n",
    "cls_rep = classification_report(y_test, y_pred)\n",
    "print(cls_rep)\n",
    "\n",
    "from sklearn.metrics import roc_auc_score\n",
    "auc = roc_auc_score(y_test, y_pred)\n",
    "print(\"ROC AUC: %.5f\" % auc)"
   ]
  },
  {
   "cell_type": "code",
   "execution_count": null,
   "metadata": {
    "collapsed": true
   },
   "outputs": [],
   "source": []
  }
 ],
 "metadata": {
  "kernelspec": {
   "display_name": "Python [conda root]",
   "language": "python",
   "name": "conda-root-py"
  },
  "language_info": {
   "codemirror_mode": {
    "name": "ipython",
    "version": 3
   },
   "file_extension": ".py",
   "mimetype": "text/x-python",
   "name": "python",
   "nbconvert_exporter": "python",
   "pygments_lexer": "ipython3",
   "version": "3.5.2"
  }
 },
 "nbformat": 4,
 "nbformat_minor": 1
}
